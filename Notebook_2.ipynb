{
 "cells": [
  {
   "cell_type": "code",
   "execution_count": 1,
   "metadata": {},
   "outputs": [],
   "source": [
    "import requests\n"
   ]
  },
  {
   "cell_type": "markdown",
   "metadata": {},
   "source": [
    "## Test de l'API"
   ]
  },
  {
   "cell_type": "code",
   "execution_count": 2,
   "metadata": {},
   "outputs": [
    {
     "data": {
      "text/plain": [
       "'{\"detail\":\"Not Found\"}'"
      ]
     },
     "execution_count": 2,
     "metadata": {},
     "output_type": "execute_result"
    }
   ],
   "source": [
    "response = requests.get('http://127.0.0.1:8001')\n",
    "response.text"
   ]
  },
  {
   "cell_type": "code",
   "execution_count": 3,
   "metadata": {},
   "outputs": [
    {
     "name": "stdout",
     "output_type": "stream",
     "text": [
      "Erreur lors de la requête: {\"detail\":\"Not Found\"}\n"
     ]
    }
   ],
   "source": [
    "# Test du point de terminaison Hello\n",
    "# Définition de l'URL de base de l'API\n",
    "\n",
    "api_url = \"http://127.0.0.1:8001\"\n",
    "response = requests.get(f\"{api_url}/hello\")\n",
    "\n",
    "if response.status_code == 200:\n",
    "    print(f\"Message du point de terminaison Hello: {response.json()}\")\n",
    "else:\n",
    "    print(f\"Erreur lors de la requête: {response.text}\")\n"
   ]
  },
  {
   "cell_type": "code",
   "execution_count": 4,
   "metadata": {},
   "outputs": [
    {
     "name": "stdout",
     "output_type": "stream",
     "text": [
      "Prédiction du modèle 1: {'prediction': 2}\n"
     ]
    }
   ],
   "source": [
    "# Création d'un objet Credit pour le modèle 1\n",
    "from api_unpeucomplété import Credit\n",
    "\n",
    "\n",
    "credit_data = {\n",
    "    \"Gender\": 1,\n",
    "    \"Age\": 30,\n",
    "    \"Physical_Activity_Level\": 2,\n",
    "    \"Heart_Rate\": 70,\n",
    "    \"Daily_Steps\": 5000,\n",
    "    \"BloodPressure_high\": 0,\n",
    "    \"BloodPressure_low\": 120,\n",
    "    \"Sleep_Disorder\": 0\n",
    "}\n",
    "\n",
    "credit = Credit(**credit_data)\n",
    "\n",
    "# Envoi de la requête POST au point de terminaison /predict\n",
    "\n",
    "response = requests.post(f\"{api_url}/predict\", json=credit.dict())\n",
    "\n",
    "if response.status_code == 200:\n",
    "    print(f\"Prédiction du modèle 1: {response.json()}\")\n",
    "else:\n",
    "    print(f\"Erreur lors de la requête: {response.text}\")\n"
   ]
  },
  {
   "cell_type": "code",
   "execution_count": 5,
   "metadata": {},
   "outputs": [
    {
     "name": "stdout",
     "output_type": "stream",
     "text": [
      "Prédiction du modèle 2: {'prediction': 2}\n"
     ]
    }
   ],
   "source": [
    "# Création d'un objet Health pour le modèle 2\n",
    "from api_unpeucomplété import Health \n",
    "\n",
    "health_data = {\n",
    "    \"Physical_Activity_Level\": 2,\n",
    "    \"Heart_Rate\": 70,\n",
    "    \"Daily_Steps\": 5000,\n",
    "    \"Sleep_Disorder\": 0\n",
    "}\n",
    "\n",
    "health = Health(**health_data)\n",
    "\n",
    "# Envoi de la requête POST au point de terminaison /predict2\n",
    "\n",
    "response = requests.post(f\"{api_url}/predict2\", json=health.dict())\n",
    "\n",
    "if response.status_code == 200:\n",
    "    print(f\"Prédiction du modèle 2: {response.json()}\")\n",
    "else:\n",
    "    print(f\"Erreur lors de la requête: {response.text}\")\n"
   ]
  }
 ],
 "metadata": {
  "kernelspec": {
   "display_name": "venv_fastapi",
   "language": "python",
   "name": "python3"
  },
  "language_info": {
   "codemirror_mode": {
    "name": "ipython",
    "version": 3
   },
   "file_extension": ".py",
   "mimetype": "text/x-python",
   "name": "python",
   "nbconvert_exporter": "python",
   "pygments_lexer": "ipython3",
   "version": "3.11.8"
  }
 },
 "nbformat": 4,
 "nbformat_minor": 2
}
